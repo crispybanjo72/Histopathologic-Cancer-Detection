{
 "cells": [
  {
   "cell_type": "code",
   "execution_count": 13,
   "id": "daf1a4fe",
   "metadata": {},
   "outputs": [],
   "source": [
    "from PIL import Image\n",
    "import numpy as np\n",
    "\n",
    "def load_image(path):\n",
    "    img = Image.open(path).convert(\"RGB\").resize((96, 96))\n",
    "    return np.array(img).flatten() / 255.0  # Normalize"
   ]
  },
  {
   "cell_type": "code",
   "execution_count": 16,
   "id": "1d19523b",
   "metadata": {},
   "outputs": [
    {
     "name": "stdout",
     "output_type": "stream",
     "text": [
      "AUC: 0.7006\n"
     ]
    }
   ],
   "source": [
    "import os\n",
    "import pandas as pd\n",
    "import numpy as np\n",
    "from PIL import Image\n",
    "from sklearn.decomposition import IncrementalPCA\n",
    "from sklearn.linear_model import SGDClassifier\n",
    "from sklearn.metrics import roc_auc_score\n",
    "from sklearn.model_selection import train_test_split\n",
    "\n",
    "# Config\n",
    "BASE_DIR = r\"C:\\Users\\iveyc\\Desktop\\Week3Kaggle\"\n",
    "TRAIN_DIR = os.path.join(BASE_DIR, \"train\")\n",
    "LABEL_CSV = os.path.join(BASE_DIR, \"train_labels.csv\")\n",
    "BATCH_SIZE = 1000\n",
    "N_COMPONENTS = 150\n",
    "\n",
    "# Image loader\n",
    "def load_image(path):\n",
    "    img = Image.open(path).convert(\"RGB\").resize((96, 96))\n",
    "    return np.array(img).flatten() / 255.0\n",
    "\n",
    "# Load labels\n",
    "df = pd.read_csv(LABEL_CSV)\n",
    "train_df, val_df = train_test_split(df, test_size=0.2, random_state=42)\n",
    "\n",
    "# Fit PCA incrementally\n",
    "pca = IncrementalPCA(n_components=N_COMPONENTS)\n",
    "for i in range(0, len(train_df), BATCH_SIZE):\n",
    "    batch = train_df.iloc[i:i+BATCH_SIZE]\n",
    "    X_batch = [load_image(os.path.join(TRAIN_DIR, row['id'] + \".tif\")) for _, row in batch.iterrows()]\n",
    "    pca.partial_fit(X_batch)\n",
    "\n",
    "# Train classifier incrementally\n",
    "clf = SGDClassifier(loss=\"log_loss\", max_iter=1000)\n",
    "for i in range(0, len(train_df), BATCH_SIZE):\n",
    "    batch = train_df.iloc[i:i+BATCH_SIZE]\n",
    "    X_batch = [load_image(os.path.join(TRAIN_DIR, row['id'] + \".tif\")) for _, row in batch.iterrows()]\n",
    "    X_pca = pca.transform(X_batch)\n",
    "    y_batch = batch['label'].values\n",
    "    clf.partial_fit(X_pca, y_batch, classes=[0, 1])\n",
    "\n",
    "# Evaluate\n",
    "X_val = [load_image(os.path.join(TRAIN_DIR, row['id'] + \".tif\")) for _, row in val_df.iterrows()]\n",
    "X_val_pca = pca.transform(X_val)\n",
    "y_val = val_df['label'].values\n",
    "preds = clf.predict_proba(X_val_pca)[:, 1]\n",
    "auc = roc_auc_score(y_val, preds)\n",
    "print(f\"AUC: {auc:.4f}\")"
   ]
  }
 ],
 "metadata": {
  "kernelspec": {
   "display_name": "Python 3",
   "language": "python",
   "name": "python3"
  },
  "language_info": {
   "codemirror_mode": {
    "name": "ipython",
    "version": 3
   },
   "file_extension": ".py",
   "mimetype": "text/x-python",
   "name": "python",
   "nbconvert_exporter": "python",
   "pygments_lexer": "ipython3",
   "version": "3.13.0"
  }
 },
 "nbformat": 4,
 "nbformat_minor": 5
}
